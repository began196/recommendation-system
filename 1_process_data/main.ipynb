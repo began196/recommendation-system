{
 "cells": [
  {
   "cell_type": "code",
   "execution_count": 6,
   "metadata": {},
   "outputs": [],
   "source": [
    "import polars as pl\n",
    "import re"
   ]
  },
  {
   "cell_type": "code",
   "execution_count": 7,
   "metadata": {},
   "outputs": [],
   "source": [
    "# Get raw data path and read it\n",
    "path_to_data = 'C:/myDocuments/projects/instant-noodles/0_webscrape_data/data/instant_noodles.csv'\n",
    "\n",
    "raw_data =  pl.read_csv(path_to_data, encoding = 'latin1')"
   ]
  },
  {
   "cell_type": "code",
   "execution_count": 26,
   "metadata": {},
   "outputs": [
    {
     "data": {
      "text/html": [
       "<div><style>\n",
       ".dataframe > thead > tr,\n",
       ".dataframe > tbody > tr {\n",
       "  text-align: right;\n",
       "  white-space: pre-wrap;\n",
       "}\n",
       "</style>\n",
       "<small>shape: (79, 6)</small><table border=\"1\" class=\"dataframe\"><thead><tr><th>product</th><th>price</th><th>weight</th><th>maker</th><th>description</th><th>img_src</th></tr><tr><td>str</td><td>str</td><td>str</td><td>str</td><td>str</td><td>str</td></tr></thead><tbody><tr><td>&quot;Sanyo Sapporo Ichiban Miso Ram…</td><td>&quot;1.99&quot;</td><td>&quot;101&quot;</td><td>&quot;Sanyo&quot;</td><td>&quot;Sapporo Ichiban make some of o…</td><td>&quot;https://cdn.media.amplience.ne…</td></tr><tr><td>&quot;Nissin Demae Iccho Sesame Rame…</td><td>&quot;0.89&quot;</td><td>&quot;100&quot;</td><td>&quot;Nissin Foods&quot;</td><td>&quot;Chewyramen noodleswith warming…</td><td>&quot;https://cdn.media.amplience.ne…</td></tr><tr><td>&quot;Nissin Yakisoba (UK)&quot;</td><td>&quot;0.85&quot;</td><td>&quot;100&quot;</td><td>&quot;Nissin Foods&quot;</td><td>&quot;Savouryyakisobaready in minute…</td><td>&quot;https://cdn.media.amplience.ne…</td></tr><tr><td>&quot;Nissin Cup Noodles Spicy Seafo…</td><td>&quot;2.20&quot;</td><td>&quot;72&quot;</td><td>&quot;Nissin Foods&quot;</td><td>&quot;Slurp up fiery seafood noodle …</td><td>&quot;https://cdn.media.amplience.ne…</td></tr><tr><td>&quot;Itsuki Kyoto Style Miso Tonkot…</td><td>&quot;3.79&quot;</td><td>&quot;182&quot;</td><td>&quot;Itsuki&quot;</td><td>&quot;Indulge in the rich taste ofwh…</td><td>&quot;https://cdn.media.amplience.ne…</td></tr><tr><td>&hellip;</td><td>&hellip;</td><td>&hellip;</td><td>&hellip;</td><td>&hellip;</td><td>&hellip;</td></tr><tr><td>&quot;Garak Hot Chicken Udon Noodles…</td><td>&quot;3.20&quot;</td><td>&quot;215&quot;</td><td>&quot;GARAK&quot;</td><td>&quot;Enjoy a spicy, savoury meal wi…</td><td>&quot;https://cdn.media.amplience.ne…</td></tr><tr><td>&quot;Garak Carbo Hot Chicken Udon N…</td><td>&quot;3.20&quot;</td><td>&quot;230&quot;</td><td>&quot;GARAK&quot;</td><td>&quot;Savour a spicy udon noodle dis…</td><td>&quot;https://cdn.media.amplience.ne…</td></tr><tr><td>&quot;Maruchan Menzukuri Rich Tonkot…</td><td>&quot;4.20&quot;</td><td>&quot;87&quot;</td><td>&quot;Maruchan&quot;</td><td>&quot;A bowl of umami-rich tonkotsu …</td><td>&quot;https://cdn.media.amplience.ne…</td></tr><tr><td>&quot;Nong Shim Chapaghetti Instant …</td><td>&quot;1.25&quot;</td><td>&quot;140&quot;</td><td>&quot;Nong Shim&quot;</td><td>&quot;A heartier kind of instant noo…</td><td>&quot;https://cdn.media.amplience.ne…</td></tr><tr><td>&quot;Young Poong Yopokki Cheese Top…</td><td>&quot;2.49&quot;</td><td>&quot;120&quot;</td><td>&quot;Young Poong Foods&quot;</td><td>null</td><td>&quot;https://cdn.media.amplience.ne…</td></tr></tbody></table></div>"
      ],
      "text/plain": [
       "shape: (79, 6)\n",
       "┌────────────────────┬───────┬────────┬───────────────────┬────────────────────┬───────────────────┐\n",
       "│ product            ┆ price ┆ weight ┆ maker             ┆ description        ┆ img_src           │\n",
       "│ ---                ┆ ---   ┆ ---    ┆ ---               ┆ ---                ┆ ---               │\n",
       "│ str                ┆ str   ┆ str    ┆ str               ┆ str                ┆ str               │\n",
       "╞════════════════════╪═══════╪════════╪═══════════════════╪════════════════════╪═══════════════════╡\n",
       "│ Sanyo Sapporo      ┆ 1.99  ┆ 101    ┆ Sanyo             ┆ Sapporo Ichiban    ┆ https://cdn.media │\n",
       "│ Ichiban Miso Ram…  ┆       ┆        ┆                   ┆ make some of o…    ┆ .amplience.ne…    │\n",
       "│ Nissin Demae Iccho ┆ 0.89  ┆ 100    ┆ Nissin Foods      ┆ Chewyramen         ┆ https://cdn.media │\n",
       "│ Sesame Rame…       ┆       ┆        ┆                   ┆ noodleswith        ┆ .amplience.ne…    │\n",
       "│                    ┆       ┆        ┆                   ┆ warming…           ┆                   │\n",
       "│ Nissin Yakisoba    ┆ 0.85  ┆ 100    ┆ Nissin Foods      ┆ Savouryyakisobarea ┆ https://cdn.media │\n",
       "│ (UK)               ┆       ┆        ┆                   ┆ dy in minute…      ┆ .amplience.ne…    │\n",
       "│ Nissin Cup Noodles ┆ 2.20  ┆ 72     ┆ Nissin Foods      ┆ Slurp up fiery     ┆ https://cdn.media │\n",
       "│ Spicy Seafo…       ┆       ┆        ┆                   ┆ seafood noodle …   ┆ .amplience.ne…    │\n",
       "│ Itsuki Kyoto Style ┆ 3.79  ┆ 182    ┆ Itsuki            ┆ Indulge in the     ┆ https://cdn.media │\n",
       "│ Miso Tonkot…       ┆       ┆        ┆                   ┆ rich taste ofwh…   ┆ .amplience.ne…    │\n",
       "│ …                  ┆ …     ┆ …      ┆ …                 ┆ …                  ┆ …                 │\n",
       "│ Garak Hot Chicken  ┆ 3.20  ┆ 215    ┆ GARAK             ┆ Enjoy a spicy,     ┆ https://cdn.media │\n",
       "│ Udon Noodles…      ┆       ┆        ┆                   ┆ savoury meal wi…   ┆ .amplience.ne…    │\n",
       "│ Garak Carbo Hot    ┆ 3.20  ┆ 230    ┆ GARAK             ┆ Savour a spicy     ┆ https://cdn.media │\n",
       "│ Chicken Udon N…    ┆       ┆        ┆                   ┆ udon noodle dis…   ┆ .amplience.ne…    │\n",
       "│ Maruchan Menzukuri ┆ 4.20  ┆ 87     ┆ Maruchan          ┆ A bowl of          ┆ https://cdn.media │\n",
       "│ Rich Tonkot…       ┆       ┆        ┆                   ┆ umami-rich         ┆ .amplience.ne…    │\n",
       "│                    ┆       ┆        ┆                   ┆ tonkotsu …         ┆                   │\n",
       "│ Nong Shim          ┆ 1.25  ┆ 140    ┆ Nong Shim         ┆ A heartier kind of ┆ https://cdn.media │\n",
       "│ Chapaghetti        ┆       ┆        ┆                   ┆ instant noo…       ┆ .amplience.ne…    │\n",
       "│ Instant …          ┆       ┆        ┆                   ┆                    ┆                   │\n",
       "│ Young Poong        ┆ 2.49  ┆ 120    ┆ Young Poong Foods ┆ null               ┆ https://cdn.media │\n",
       "│ Yopokki Cheese     ┆       ┆        ┆                   ┆                    ┆ .amplience.ne…    │\n",
       "│ Top…               ┆       ┆        ┆                   ┆                    ┆                   │\n",
       "└────────────────────┴───────┴────────┴───────────────────┴────────────────────┴───────────────────┘"
      ]
     },
     "execution_count": 26,
     "metadata": {},
     "output_type": "execute_result"
    }
   ],
   "source": [
    "# Processing the existing data\n",
    "\n",
    "# Remove pound sign from data\n",
    "\n",
    "# raw_data[['price']] = re.findall('\\d+\\.\\d+|\\d+', raw_data[['price']])\n",
    "\n",
    "raw_data.filter(\n",
    "    ~pl.col('weight').str.contains(r\",\")\n",
    ").with_columns(\n",
    "    pl.col(\"price\").str.extract(r\"(\\d+\\.*\\d*)\", 1).alias(\"price\"),\n",
    "    pl.col(\"weight\").str.extract(r\"(\\d+\\.*\\d*)\", 1).alias(\"weight\"),\n",
    "\n",
    ")"
   ]
  },
  {
   "cell_type": "code",
   "execution_count": 19,
   "metadata": {},
   "outputs": [
    {
     "data": {
      "text/html": [
       "<div><style>\n",
       ".dataframe > thead > tr,\n",
       ".dataframe > tbody > tr {\n",
       "  text-align: right;\n",
       "  white-space: pre-wrap;\n",
       "}\n",
       "</style>\n",
       "<small>shape: (116, 6)</small><table border=\"1\" class=\"dataframe\"><thead><tr><th>product</th><th>price</th><th>weight</th><th>maker</th><th>description</th><th>img_src</th></tr><tr><td>str</td><td>str</td><td>str</td><td>str</td><td>str</td><td>str</td></tr></thead><tbody><tr><td>&quot;Sanyo Sapporo Ichiban Miso Ram…</td><td>&quot;£1.99&quot;</td><td>&quot;101g&quot;</td><td>&quot;Sanyo&quot;</td><td>&quot;Sapporo Ichiban make some of o…</td><td>&quot;https://cdn.media.amplience.ne…</td></tr><tr><td>&quot;Nissin Demae Iccho Sesame Rame…</td><td>&quot;£0.89&quot;</td><td>&quot;100g&quot;</td><td>&quot;Nissin Foods&quot;</td><td>&quot;Chewyramen noodleswith warming…</td><td>&quot;https://cdn.media.amplience.ne…</td></tr><tr><td>&quot;Nissin Yakisoba (UK)&quot;</td><td>&quot;£0.85&quot;</td><td>&quot;100g&quot;</td><td>&quot;Nissin Foods&quot;</td><td>&quot;Savouryyakisobaready in minute…</td><td>&quot;https://cdn.media.amplience.ne…</td></tr><tr><td>&quot;Nissin Cup Noodles Spicy Seafo…</td><td>&quot;£2.20&quot;</td><td>&quot;72g&quot;</td><td>&quot;Nissin Foods&quot;</td><td>&quot;Slurp up fiery seafood noodle …</td><td>&quot;https://cdn.media.amplience.ne…</td></tr><tr><td>&quot;Itsuki Kyoto Style Miso Tonkot…</td><td>&quot;£3.79&quot;</td><td>&quot;182g&quot;</td><td>&quot;Itsuki&quot;</td><td>&quot;Indulge in the rich taste ofwh…</td><td>&quot;https://cdn.media.amplience.ne…</td></tr><tr><td>&hellip;</td><td>&hellip;</td><td>&hellip;</td><td>&hellip;</td><td>&hellip;</td><td>&hellip;</td></tr><tr><td>&quot;Yamamoto Seifun Ponpoko Yakiso…</td><td>&quot;£7.49&quot;</td><td>&quot;534g , 6 servings&quot;</td><td>&quot;Yamamoto Seifun&quot;</td><td>null</td><td>&quot;https://cdn.media.amplience.ne…</td></tr><tr><td>&quot;Garak Instant Kimchi Ramen (Mu…</td><td>&quot;£6.99&quot;</td><td>&quot;600g , 5 packs&quot;</td><td>&quot;GARAK&quot;</td><td>null</td><td>&quot;https://cdn.media.amplience.ne…</td></tr><tr><td>&quot;Young Poong Yopokki Cheese Top…</td><td>&quot;£2.49&quot;</td><td>&quot;120g&quot;</td><td>&quot;Young Poong Foods&quot;</td><td>null</td><td>&quot;https://cdn.media.amplience.ne…</td></tr><tr><td>&quot;Yamamoto Seifun Tanuki Oyaji n…</td><td>&quot;£9.99&quot;</td><td>&quot;435g , 5 servings&quot;</td><td>&quot;Yamamoto Seifun&quot;</td><td>null</td><td>&quot;https://cdn.media.amplience.ne…</td></tr><tr><td>&quot;Garak Instant Seafood Ramen&quot;</td><td>&quot;£6.99&quot;</td><td>&quot;600g , 5 packs&quot;</td><td>&quot;GARAK&quot;</td><td>null</td><td>&quot;https://cdn.media.amplience.ne…</td></tr></tbody></table></div>"
      ],
      "text/plain": [
       "shape: (116, 6)\n",
       "┌──────────────────┬───────┬─────────────────┬─────────────────┬─────────────────┬─────────────────┐\n",
       "│ product          ┆ price ┆ weight          ┆ maker           ┆ description     ┆ img_src         │\n",
       "│ ---              ┆ ---   ┆ ---             ┆ ---             ┆ ---             ┆ ---             │\n",
       "│ str              ┆ str   ┆ str             ┆ str             ┆ str             ┆ str             │\n",
       "╞══════════════════╪═══════╪═════════════════╪═════════════════╪═════════════════╪═════════════════╡\n",
       "│ Sanyo Sapporo    ┆ £1.99 ┆ 101g            ┆ Sanyo           ┆ Sapporo Ichiban ┆ https://cdn.med │\n",
       "│ Ichiban Miso     ┆       ┆                 ┆                 ┆ make some of o… ┆ ia.amplience.ne │\n",
       "│ Ram…             ┆       ┆                 ┆                 ┆                 ┆ …               │\n",
       "│ Nissin Demae     ┆ £0.89 ┆ 100g            ┆ Nissin Foods    ┆ Chewyramen      ┆ https://cdn.med │\n",
       "│ Iccho Sesame     ┆       ┆                 ┆                 ┆ noodleswith     ┆ ia.amplience.ne │\n",
       "│ Rame…            ┆       ┆                 ┆                 ┆ warming…        ┆ …               │\n",
       "│ Nissin Yakisoba  ┆ £0.85 ┆ 100g            ┆ Nissin Foods    ┆ Savouryyakisoba ┆ https://cdn.med │\n",
       "│ (UK)             ┆       ┆                 ┆                 ┆ ready in        ┆ ia.amplience.ne │\n",
       "│                  ┆       ┆                 ┆                 ┆ minute…         ┆ …               │\n",
       "│ Nissin Cup       ┆ £2.20 ┆ 72g             ┆ Nissin Foods    ┆ Slurp up fiery  ┆ https://cdn.med │\n",
       "│ Noodles Spicy    ┆       ┆                 ┆                 ┆ seafood noodle  ┆ ia.amplience.ne │\n",
       "│ Seafo…           ┆       ┆                 ┆                 ┆ …               ┆ …               │\n",
       "│ Itsuki Kyoto     ┆ £3.79 ┆ 182g            ┆ Itsuki          ┆ Indulge in the  ┆ https://cdn.med │\n",
       "│ Style Miso       ┆       ┆                 ┆                 ┆ rich taste      ┆ ia.amplience.ne │\n",
       "│ Tonkot…          ┆       ┆                 ┆                 ┆ ofwh…           ┆ …               │\n",
       "│ …                ┆ …     ┆ …               ┆ …               ┆ …               ┆ …               │\n",
       "│ Yamamoto Seifun  ┆ £7.49 ┆ 534g , 6        ┆ Yamamoto Seifun ┆ null            ┆ https://cdn.med │\n",
       "│ Ponpoko Yakiso…  ┆       ┆ servings        ┆                 ┆                 ┆ ia.amplience.ne │\n",
       "│                  ┆       ┆                 ┆                 ┆                 ┆ …               │\n",
       "│ Garak Instant    ┆ £6.99 ┆ 600g , 5 packs  ┆ GARAK           ┆ null            ┆ https://cdn.med │\n",
       "│ Kimchi Ramen     ┆       ┆                 ┆                 ┆                 ┆ ia.amplience.ne │\n",
       "│ (Mu…             ┆       ┆                 ┆                 ┆                 ┆ …               │\n",
       "│ Young Poong      ┆ £2.49 ┆ 120g            ┆ Young Poong     ┆ null            ┆ https://cdn.med │\n",
       "│ Yopokki Cheese   ┆       ┆                 ┆ Foods           ┆                 ┆ ia.amplience.ne │\n",
       "│ Top…             ┆       ┆                 ┆                 ┆                 ┆ …               │\n",
       "│ Yamamoto Seifun  ┆ £9.99 ┆ 435g , 5        ┆ Yamamoto Seifun ┆ null            ┆ https://cdn.med │\n",
       "│ Tanuki Oyaji n…  ┆       ┆ servings        ┆                 ┆                 ┆ ia.amplience.ne │\n",
       "│                  ┆       ┆                 ┆                 ┆                 ┆ …               │\n",
       "│ Garak Instant    ┆ £6.99 ┆ 600g , 5 packs  ┆ GARAK           ┆ null            ┆ https://cdn.med │\n",
       "│ Seafood Ramen    ┆       ┆                 ┆                 ┆                 ┆ ia.amplience.ne │\n",
       "│                  ┆       ┆                 ┆                 ┆                 ┆ …               │\n",
       "└──────────────────┴───────┴─────────────────┴─────────────────┴─────────────────┴─────────────────┘"
      ]
     },
     "execution_count": 19,
     "metadata": {},
     "output_type": "execute_result"
    }
   ],
   "source": [
    "raw_data"
   ]
  },
  {
   "cell_type": "code",
   "execution_count": 12,
   "metadata": {},
   "outputs": [
    {
     "data": {
      "text/html": [
       "<div><style>\n",
       ".dataframe > thead > tr,\n",
       ".dataframe > tbody > tr {\n",
       "  text-align: right;\n",
       "  white-space: pre-wrap;\n",
       "}\n",
       "</style>\n",
       "<small>shape: (116, 1)</small><table border=\"1\" class=\"dataframe\"><thead><tr><th>price</th></tr><tr><td>str</td></tr></thead><tbody><tr><td>&quot;£1.99&quot;</td></tr><tr><td>&quot;£0.89&quot;</td></tr><tr><td>&quot;£0.85&quot;</td></tr><tr><td>&quot;£2.20&quot;</td></tr><tr><td>&quot;£3.79&quot;</td></tr><tr><td>&hellip;</td></tr><tr><td>&quot;£7.49&quot;</td></tr><tr><td>&quot;£6.99&quot;</td></tr><tr><td>&quot;£2.49&quot;</td></tr><tr><td>&quot;£9.99&quot;</td></tr><tr><td>&quot;£6.99&quot;</td></tr></tbody></table></div>"
      ],
      "text/plain": [
       "shape: (116, 1)\n",
       "┌───────┐\n",
       "│ price │\n",
       "│ ---   │\n",
       "│ str   │\n",
       "╞═══════╡\n",
       "│ £1.99 │\n",
       "│ £0.89 │\n",
       "│ £0.85 │\n",
       "│ £2.20 │\n",
       "│ £3.79 │\n",
       "│ …     │\n",
       "│ £7.49 │\n",
       "│ £6.99 │\n",
       "│ £2.49 │\n",
       "│ £9.99 │\n",
       "│ £6.99 │\n",
       "└───────┘"
      ]
     },
     "execution_count": 12,
     "metadata": {},
     "output_type": "execute_result"
    }
   ],
   "source": [
    "raw_data[['price']]"
   ]
  }
 ],
 "metadata": {
  "kernelspec": {
   "display_name": "venv",
   "language": "python",
   "name": "python3"
  },
  "language_info": {
   "codemirror_mode": {
    "name": "ipython",
    "version": 3
   },
   "file_extension": ".py",
   "mimetype": "text/x-python",
   "name": "python",
   "nbconvert_exporter": "python",
   "pygments_lexer": "ipython3",
   "version": "3.11.4"
  }
 },
 "nbformat": 4,
 "nbformat_minor": 2
}
