{
 "cells": [
  {
   "cell_type": "markdown",
   "metadata": {},
   "source": [
    "Content-based filtering recommendation system using cosine distance"
   ]
  },
  {
   "cell_type": "code",
   "execution_count": 35,
   "metadata": {},
   "outputs": [],
   "source": [
    "import polars as pl\n",
    "import numpy as np\n",
    "from sklearn.metrics.pairwise import cosine_similarity\n",
    "from sklearn.preprocessing import OneHotEncoder"
   ]
  },
  {
   "cell_type": "code",
   "execution_count": 3,
   "metadata": {},
   "outputs": [],
   "source": [
    "# Read in dataset from previous step\n",
    "df_raw = pl.read_csv('../1_process_data/data/processed_data.csv')\n",
    "\n",
    "# Define categorical columns\n",
    "categorical_cols = ['maker', 'region', 'spicy', 'soupy', 'base']\n",
    "\n",
    "# One hot encoding\n",
    "encoder = OneHotEncoder(sparse_output=False)\n",
    "encoded_array = encoder.fit_transform(df_raw.select(categorical_cols).to_numpy())\n",
    "\n",
    "# Convert back to a Polars DataFrame\n",
    "encoded_df = pl.DataFrame(\n",
    "    encoded_array, \n",
    "    schema=encoder.get_feature_names_out(categorical_cols).tolist()  # Get column names\n",
    ")\n",
    "\n",
    "# Update all columns to integer\n",
    "encoded_df = encoded_df.with_columns(\n",
    "    pl.col(col).cast(pl.Int64) for col in encoded_df.columns\n",
    ")\n",
    "\n",
    "# Merge with original DataFrame (excluding the original categorical columns)\n",
    "df_encoded = df_raw.drop(categorical_cols).hstack(encoded_df).drop(['price', 'weight'])\n"
   ]
  },
  {
   "cell_type": "code",
   "execution_count": 44,
   "metadata": {},
   "outputs": [
    {
     "name": "stdout",
     "output_type": "stream",
     "text": [
      "Recommended: Sanyo Foods Pokemon Soy Sauce Ramen (Similarity: 1.000)\n",
      "Recommended: Nissin Demae Iccho Sesame Ramen (EU) (Similarity: 0.800)\n",
      "Recommended: Nissin Yakisoba (UK) (Similarity: 0.800)\n",
      "Recommended: Itsuki Kyoto Style Miso Tonkotsu Ramen (Similarity: 0.800)\n",
      "Recommended: Itsuki Sapporo Style Miso Ramen (Similarity: 0.800)\n"
     ]
    }
   ],
   "source": [
    "# Function to get similar movies\n",
    "def recommend_noodles(product_nood, df_noods, cosine_sim_matrix):\n",
    "    idx = np.where((df_noods['product'] == product_nood).to_numpy())[0][0]  # Get noods index\n",
    "    sim_scores = list(enumerate(cosine_sim_matrix[idx]))  # Get similarity scores\n",
    "    sim_scores = sorted(sim_scores, key=lambda x: x[1], reverse=True)[1:]  # Sort and exclude self\n",
    "\n",
    "    recommendations = df_noods.select(\"product\").to_series().to_list()  # Convert to list for indexing\n",
    "    return [(recommendations[i[0]], i[1]) for i in sim_scores]  # Return (product, similarity)\n",
    "\n",
    "# Convert one-hot encoded features to a NumPy array\n",
    "features = df_encoded.drop('product').to_numpy()\n",
    "\n",
    "# Compute cosine similarity between all movies\n",
    "cosine_sim = cosine_similarity(features)\n",
    "\n",
    "# Recommend movies similar to \"Inception\"\n",
    "recommended_noodles = recommend_noodles(\"Sanyo Sapporo Ichiban Miso Ramen (USA)\", df_encoded, cosine_sim)\n",
    "\n",
    "# Print recommendations\n",
    "for noods, score in recommended_noodles[0:5]:\n",
    "    print(f\"Recommended: {noods} (Similarity: {score:.3f})\")"
   ]
  }
 ],
 "metadata": {
  "kernelspec": {
   "display_name": "venv",
   "language": "python",
   "name": "python3"
  },
  "language_info": {
   "codemirror_mode": {
    "name": "ipython",
    "version": 3
   },
   "file_extension": ".py",
   "mimetype": "text/x-python",
   "name": "python",
   "nbconvert_exporter": "python",
   "pygments_lexer": "ipython3",
   "version": "3.11.4"
  }
 },
 "nbformat": 4,
 "nbformat_minor": 2
}
